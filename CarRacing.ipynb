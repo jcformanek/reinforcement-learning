{
 "cells": [
  {
   "cell_type": "code",
   "execution_count": 2,
   "metadata": {},
   "outputs": [],
   "source": [
    "import gym\n",
    "import numpy as np\n",
    "import torch\n",
    "import torch.nn as nn\n",
    "import torch.nn.functional as F"
   ]
  },
  {
   "cell_type": "code",
   "execution_count": 3,
   "metadata": {
    "tags": []
   },
   "outputs": [
    {
     "output_type": "stream",
     "name": "stdout",
     "text": "Track generation: 1247..1563 -> 316-tiles track\n"
    }
   ],
   "source": [
    "env = gym.make(\"CarRacing-v0\")\n",
    "obs = env.reset()\n",
    "env.close()\n",
    "obs = np.array(obs)"
   ]
  },
  {
   "cell_type": "code",
   "execution_count": 4,
   "metadata": {
    "tags": []
   },
   "outputs": [
    {
     "output_type": "stream",
     "name": "stdout",
     "text": "torch.Size([96, 96, 3])\ntorch.Size([1, 96, 96, 3])\ntorch.Size([1, 3, 96, 96])\n"
    }
   ],
   "source": [
    "obs_tensor = torch.tensor(obs, dtype=torch.float32)\n",
    "print(obs_tensor.shape)\n",
    "obs_tensor = obs_tensor.unsqueeze(0)\n",
    "print(obs_tensor.shape)\n",
    "obs_tensor = obs_tensor.permute(0,3,1,2)\n",
    "print(obs_tensor.shape)"
   ]
  },
  {
   "cell_type": "code",
   "execution_count": 5,
   "metadata": {
    "tags": []
   },
   "outputs": [
    {
     "output_type": "stream",
     "name": "stdout",
     "text": "Input torch.Size([1, 3, 96, 96])\nConv1 torch.Size([1, 16, 46, 46])\nConv2 torch.Size([1, 32, 21, 21])\nFlatten torch.Size([1, 14112])\nLinear torch.Size([1, 3])\n"
    }
   ],
   "source": [
    "\n",
    "x = obs_tensor.detach().clone()\n",
    "print(\"Input\", x.shape)\n",
    "conv1 = nn.Conv2d(3, 16, kernel_size=5, stride=2)\n",
    "x = conv1(x)\n",
    "print(\"Conv1\", x.shape)\n",
    "conv2 = nn.Conv2d(16, 32, kernel_size=5, stride=2)\n",
    "x = conv2(x)\n",
    "print(\"Conv2\", x.shape)\n",
    "linear_size = x.shape[1] * x.shape[2] * x.shape[3]\n",
    "x = x.view(x.size(0),-1)\n",
    "print(\"Flatten\", x.shape)\n",
    "linear = nn.Linear(linear_size, 3)\n",
    "x = linear(x)\n",
    "print(\"Linear\", x.shape)"
   ]
  },
  {
   "cell_type": "code",
   "execution_count": 6,
   "metadata": {},
   "outputs": [],
   "source": [
    "class DQN(nn.Module):\n",
    "    def __init__(self):\n",
    "        super(DQN, self).__init__()\n",
    "        self.conv1 = nn.Conv2d(3, 16, kernel_size=5, stride=2)\n",
    "        self.conv2 = nn.Conv2d(16, 32, kernel_size=5, stride=2)\n",
    "        self.linear = nn.Linear(14112, 3)\n",
    "\n",
    "    def forward(self, x):\n",
    "        x = F.relu(self.conv1(x))\n",
    "        x = F.relu(self.conv2(x))\n",
    "        x = x.view(x.size(0), -1)\n",
    "        return self.linear(x)"
   ]
  },
  {
   "cell_type": "code",
   "execution_count": 7,
   "metadata": {},
   "outputs": [
    {
     "output_type": "execute_result",
     "data": {
      "text/plain": "tensor([[-4.0357, -5.4013,  0.1850]], grad_fn=<AddmmBackward>)"
     },
     "metadata": {},
     "execution_count": 7
    }
   ],
   "source": [
    "dqn = DQN()\n",
    "x = obs_tensor.detach().clone()\n",
    "dqn(x)"
   ]
  },
  {
   "cell_type": "code",
   "execution_count": 8,
   "metadata": {},
   "outputs": [],
   "source": [
    "# convert a single obs from gym into a tensor for DQN\n",
    "def to_tensor(obs):\n",
    "    obs = np.array(obs)\n",
    "    obs_tensor = torch.tensor(obs, dtype=torch.float32)\n",
    "    obs_tensor = obs_tensor.unsqueeze(0)\n",
    "    obs_tensor = obs_tensor.permute(0,3,1,2)\n",
    "    return obs_tensor"
   ]
  },
  {
   "cell_type": "code",
   "execution_count": 44,
   "metadata": {
    "tags": []
   },
   "outputs": [
    {
     "output_type": "stream",
     "name": "stdout",
     "text": "(10, 3, 96, 96)\n(96, 96, 3)\n(3, 96, 96)\nFalse\n[4 7 6 2 8 9 1 0 3]\n(9, 3, 96, 96)\n"
    }
   ],
   "source": [
    "size = 10\n",
    "states = np.zeros((size, 3, 96, 96))\n",
    "print(states.shape)\n",
    "obs_np = np.array(obs)\n",
    "print(obs_np.shape)\n",
    "obs_np = obs_np.transpose(2,0,1)\n",
    "print(obs_np.shape)\n",
    "states[1] = obs_np\n",
    "print(np.array_equal(states[0],states[1]))\n",
    "idxs = np.random.choice(10, 9, replace=False)\n",
    "print(idxs)\n",
    "batch = states[idxs]\n",
    "print(batch.shape)\n"
   ]
  },
  {
   "cell_type": "code",
   "execution_count": 45,
   "metadata": {},
   "outputs": [],
   "source": [
    "class ReplayBuffer():\n",
    "    def __init__(self, size):\n",
    "        self.size = size\n",
    "        self.states = np.zeros((size, 3, 96, 96))\n",
    "        self.ctr = 0\n",
    "\n",
    "    def push(self, obs):\n",
    "        obs = np.array(obs).transpose(2,0,1) # transpose swaps the dimensions in numpy\n",
    "\n",
    "        idx = self.ctr % self.size\n",
    "        self.states[idx] = obs\n",
    "\n",
    "        self.ctr += 1\n",
    "\n",
    "    def sample(self, batch_size):\n",
    "        max_idx = min(self.size, self.ctr)\n",
    "        idxs = np.random.choice(max_idx, batch_size, replace=False)\n",
    "        states_batch = self.states[idxs]\n",
    "\n",
    "        return idxs"
   ]
  },
  {
   "cell_type": "code",
   "execution_count": 46,
   "metadata": {
    "tags": []
   },
   "outputs": [],
   "source": [
    "mem = ReplayBuffer(10)\n",
    "for i in range(12):\n",
    "    mem.push(obs)"
   ]
  },
  {
   "cell_type": "code",
   "execution_count": 48,
   "metadata": {},
   "outputs": [
    {
     "output_type": "execute_result",
     "data": {
      "text/plain": "array([[[[0., 0., 0., ..., 0., 0., 0.],\n         [0., 0., 0., ..., 0., 0., 0.],\n         [0., 0., 0., ..., 0., 0., 0.],\n         ...,\n         [0., 0., 0., ..., 0., 0., 0.],\n         [0., 0., 0., ..., 0., 0., 0.],\n         [0., 0., 0., ..., 0., 0., 0.]],\n\n        [[0., 0., 0., ..., 0., 0., 0.],\n         [0., 0., 0., ..., 0., 0., 0.],\n         [0., 0., 0., ..., 0., 0., 0.],\n         ...,\n         [0., 0., 0., ..., 0., 0., 0.],\n         [0., 0., 0., ..., 0., 0., 0.],\n         [0., 0., 0., ..., 0., 0., 0.]],\n\n        [[0., 0., 0., ..., 0., 0., 0.],\n         [0., 0., 0., ..., 0., 0., 0.],\n         [0., 0., 0., ..., 0., 0., 0.],\n         ...,\n         [0., 0., 0., ..., 0., 0., 0.],\n         [0., 0., 0., ..., 0., 0., 0.],\n         [0., 0., 0., ..., 0., 0., 0.]]],\n\n\n       [[[0., 0., 0., ..., 0., 0., 0.],\n         [0., 0., 0., ..., 0., 0., 0.],\n         [0., 0., 0., ..., 0., 0., 0.],\n         ...,\n         [0., 0., 0., ..., 0., 0., 0.],\n         [0., 0., 0., ..., 0., 0., 0.],\n         [0., 0., 0., ..., 0., 0., 0.]],\n\n        [[0., 0., 0., ..., 0., 0., 0.],\n         [0., 0., 0., ..., 0., 0., 0.],\n         [0., 0., 0., ..., 0., 0., 0.],\n         ...,\n         [0., 0., 0., ..., 0., 0., 0.],\n         [0., 0., 0., ..., 0., 0., 0.],\n         [0., 0., 0., ..., 0., 0., 0.]],\n\n        [[0., 0., 0., ..., 0., 0., 0.],\n         [0., 0., 0., ..., 0., 0., 0.],\n         [0., 0., 0., ..., 0., 0., 0.],\n         ...,\n         [0., 0., 0., ..., 0., 0., 0.],\n         [0., 0., 0., ..., 0., 0., 0.],\n         [0., 0., 0., ..., 0., 0., 0.]]],\n\n\n       [[[0., 0., 0., ..., 0., 0., 0.],\n         [0., 0., 0., ..., 0., 0., 0.],\n         [0., 0., 0., ..., 0., 0., 0.],\n         ...,\n         [0., 0., 0., ..., 0., 0., 0.],\n         [0., 0., 0., ..., 0., 0., 0.],\n         [0., 0., 0., ..., 0., 0., 0.]],\n\n        [[0., 0., 0., ..., 0., 0., 0.],\n         [0., 0., 0., ..., 0., 0., 0.],\n         [0., 0., 0., ..., 0., 0., 0.],\n         ...,\n         [0., 0., 0., ..., 0., 0., 0.],\n         [0., 0., 0., ..., 0., 0., 0.],\n         [0., 0., 0., ..., 0., 0., 0.]],\n\n        [[0., 0., 0., ..., 0., 0., 0.],\n         [0., 0., 0., ..., 0., 0., 0.],\n         [0., 0., 0., ..., 0., 0., 0.],\n         ...,\n         [0., 0., 0., ..., 0., 0., 0.],\n         [0., 0., 0., ..., 0., 0., 0.],\n         [0., 0., 0., ..., 0., 0., 0.]]]])"
     },
     "metadata": {},
     "execution_count": 48
    }
   ],
   "source": [
    "mem.sample(3)"
   ]
  },
  {
   "cell_type": "code",
   "execution_count": null,
   "metadata": {},
   "outputs": [],
   "source": []
  }
 ],
 "metadata": {
  "language_info": {
   "codemirror_mode": {
    "name": "ipython",
    "version": 3
   },
   "file_extension": ".py",
   "mimetype": "text/x-python",
   "name": "python",
   "nbconvert_exporter": "python",
   "pygments_lexer": "ipython3",
   "version": "3.6.9-final"
  },
  "orig_nbformat": 2,
  "kernelspec": {
   "name": "python36964bitrlvenva6107fb8ff464639b776069d3791562f",
   "display_name": "Python 3.6.9 64-bit ('rl': venv)"
  }
 },
 "nbformat": 4,
 "nbformat_minor": 2
}